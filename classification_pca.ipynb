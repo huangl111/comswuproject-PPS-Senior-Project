{
 "cells": [
  {
   "cell_type": "code",
   "execution_count": 1,
   "metadata": {
    "collapsed": true
   },
   "outputs": [],
   "source": [
    "import sklearn"
   ]
  },
  {
   "cell_type": "code",
   "execution_count": 2,
   "metadata": {
    "collapsed": true
   },
   "outputs": [],
   "source": [
    "import pandas as pd "
   ]
  },
  {
   "cell_type": "code",
   "execution_count": 3,
   "metadata": {
    "collapsed": true
   },
   "outputs": [],
   "source": [
    "df = pd.read_csv('/resources/data/Data_pca3.csv')"
   ]
  },
  {
   "cell_type": "code",
   "execution_count": 4,
   "metadata": {
    "collapsed": false
   },
   "outputs": [
    {
     "data": {
      "text/html": [
       "<div>\n",
       "<style scoped>\n",
       "    .dataframe tbody tr th:only-of-type {\n",
       "        vertical-align: middle;\n",
       "    }\n",
       "\n",
       "    .dataframe tbody tr th {\n",
       "        vertical-align: top;\n",
       "    }\n",
       "\n",
       "    .dataframe thead th {\n",
       "        text-align: right;\n",
       "    }\n",
       "</style>\n",
       "<table border=\"1\" class=\"dataframe\">\n",
       "  <thead>\n",
       "    <tr style=\"text-align: right;\">\n",
       "      <th></th>\n",
       "      <th>Unnamed: 0</th>\n",
       "      <th>principal component 1</th>\n",
       "      <th>principal component 2</th>\n",
       "      <th>principal component 3</th>\n",
       "      <th>principal component 4</th>\n",
       "      <th>principal component 5</th>\n",
       "      <th>principal component 6</th>\n",
       "      <th>principal component 7</th>\n",
       "      <th>principal component 8</th>\n",
       "      <th>principal component 9</th>\n",
       "      <th>...</th>\n",
       "      <th>principal component 61</th>\n",
       "      <th>principal component 62</th>\n",
       "      <th>principal component 63</th>\n",
       "      <th>principal component 64</th>\n",
       "      <th>principal component 65</th>\n",
       "      <th>principal component 66</th>\n",
       "      <th>principal component 67</th>\n",
       "      <th>principal component 68</th>\n",
       "      <th>principal component 69</th>\n",
       "      <th>Class</th>\n",
       "    </tr>\n",
       "  </thead>\n",
       "  <tbody>\n",
       "    <tr>\n",
       "      <th>35861</th>\n",
       "      <td>35861</td>\n",
       "      <td>-3.863529</td>\n",
       "      <td>-2.553987</td>\n",
       "      <td>-1.934726</td>\n",
       "      <td>-1.601728</td>\n",
       "      <td>-0.615264</td>\n",
       "      <td>-0.688994</td>\n",
       "      <td>-0.222423</td>\n",
       "      <td>-0.372571</td>\n",
       "      <td>-0.209606</td>\n",
       "      <td>...</td>\n",
       "      <td>-0.064644</td>\n",
       "      <td>-0.155342</td>\n",
       "      <td>-0.134497</td>\n",
       "      <td>-0.057262</td>\n",
       "      <td>-0.026415</td>\n",
       "      <td>-0.055904</td>\n",
       "      <td>-0.222933</td>\n",
       "      <td>-0.050600</td>\n",
       "      <td>-0.064772</td>\n",
       "      <td>0</td>\n",
       "    </tr>\n",
       "    <tr>\n",
       "      <th>35862</th>\n",
       "      <td>35862</td>\n",
       "      <td>52.134551</td>\n",
       "      <td>-2.410585</td>\n",
       "      <td>-1.986239</td>\n",
       "      <td>-1.569498</td>\n",
       "      <td>-0.602582</td>\n",
       "      <td>-0.665926</td>\n",
       "      <td>-0.220012</td>\n",
       "      <td>-0.372814</td>\n",
       "      <td>-0.195834</td>\n",
       "      <td>...</td>\n",
       "      <td>-0.062482</td>\n",
       "      <td>-0.151446</td>\n",
       "      <td>-0.135460</td>\n",
       "      <td>-0.055386</td>\n",
       "      <td>-0.026455</td>\n",
       "      <td>-0.060854</td>\n",
       "      <td>-0.217973</td>\n",
       "      <td>-0.048817</td>\n",
       "      <td>-0.063880</td>\n",
       "      <td>1</td>\n",
       "    </tr>\n",
       "    <tr>\n",
       "      <th>35863</th>\n",
       "      <td>35863</td>\n",
       "      <td>-3.863529</td>\n",
       "      <td>-2.553987</td>\n",
       "      <td>-1.934726</td>\n",
       "      <td>-1.601728</td>\n",
       "      <td>-0.615264</td>\n",
       "      <td>-0.688994</td>\n",
       "      <td>-0.222423</td>\n",
       "      <td>-0.372571</td>\n",
       "      <td>-0.209606</td>\n",
       "      <td>...</td>\n",
       "      <td>-0.064644</td>\n",
       "      <td>-0.155342</td>\n",
       "      <td>-0.134497</td>\n",
       "      <td>-0.057262</td>\n",
       "      <td>-0.026415</td>\n",
       "      <td>-0.055904</td>\n",
       "      <td>-0.222933</td>\n",
       "      <td>-0.050600</td>\n",
       "      <td>-0.064772</td>\n",
       "      <td>0</td>\n",
       "    </tr>\n",
       "    <tr>\n",
       "      <th>35864</th>\n",
       "      <td>35864</td>\n",
       "      <td>-4.067965</td>\n",
       "      <td>-2.941461</td>\n",
       "      <td>-2.764626</td>\n",
       "      <td>-3.938345</td>\n",
       "      <td>903.379141</td>\n",
       "      <td>-0.041868</td>\n",
       "      <td>-0.132947</td>\n",
       "      <td>-0.230634</td>\n",
       "      <td>-0.132571</td>\n",
       "      <td>...</td>\n",
       "      <td>-0.027755</td>\n",
       "      <td>-0.060537</td>\n",
       "      <td>-0.128216</td>\n",
       "      <td>-0.128252</td>\n",
       "      <td>-0.019920</td>\n",
       "      <td>-0.040049</td>\n",
       "      <td>-0.162942</td>\n",
       "      <td>-0.059494</td>\n",
       "      <td>-0.041353</td>\n",
       "      <td>1</td>\n",
       "    </tr>\n",
       "    <tr>\n",
       "      <th>35865</th>\n",
       "      <td>35865</td>\n",
       "      <td>-3.863529</td>\n",
       "      <td>-2.553987</td>\n",
       "      <td>-1.934726</td>\n",
       "      <td>-1.601728</td>\n",
       "      <td>-0.615264</td>\n",
       "      <td>-0.688994</td>\n",
       "      <td>-0.222423</td>\n",
       "      <td>-0.372571</td>\n",
       "      <td>-0.209606</td>\n",
       "      <td>...</td>\n",
       "      <td>-0.064644</td>\n",
       "      <td>-0.155342</td>\n",
       "      <td>-0.134497</td>\n",
       "      <td>-0.057262</td>\n",
       "      <td>-0.026415</td>\n",
       "      <td>-0.055904</td>\n",
       "      <td>-0.222933</td>\n",
       "      <td>-0.050600</td>\n",
       "      <td>-0.064772</td>\n",
       "      <td>0</td>\n",
       "    </tr>\n",
       "  </tbody>\n",
       "</table>\n",
       "<p>5 rows × 71 columns</p>\n",
       "</div>"
      ],
      "text/plain": [
       "       Unnamed: 0  principal component 1  principal component 2  \\\n",
       "35861       35861              -3.863529              -2.553987   \n",
       "35862       35862              52.134551              -2.410585   \n",
       "35863       35863              -3.863529              -2.553987   \n",
       "35864       35864              -4.067965              -2.941461   \n",
       "35865       35865              -3.863529              -2.553987   \n",
       "\n",
       "       principal component 3  principal component 4  principal component 5  \\\n",
       "35861              -1.934726              -1.601728              -0.615264   \n",
       "35862              -1.986239              -1.569498              -0.602582   \n",
       "35863              -1.934726              -1.601728              -0.615264   \n",
       "35864              -2.764626              -3.938345             903.379141   \n",
       "35865              -1.934726              -1.601728              -0.615264   \n",
       "\n",
       "       principal component 6  principal component 7  principal component 8  \\\n",
       "35861              -0.688994              -0.222423              -0.372571   \n",
       "35862              -0.665926              -0.220012              -0.372814   \n",
       "35863              -0.688994              -0.222423              -0.372571   \n",
       "35864              -0.041868              -0.132947              -0.230634   \n",
       "35865              -0.688994              -0.222423              -0.372571   \n",
       "\n",
       "       principal component 9  ...    principal component 61  \\\n",
       "35861              -0.209606  ...                 -0.064644   \n",
       "35862              -0.195834  ...                 -0.062482   \n",
       "35863              -0.209606  ...                 -0.064644   \n",
       "35864              -0.132571  ...                 -0.027755   \n",
       "35865              -0.209606  ...                 -0.064644   \n",
       "\n",
       "       principal component 62  principal component 63  principal component 64  \\\n",
       "35861               -0.155342               -0.134497               -0.057262   \n",
       "35862               -0.151446               -0.135460               -0.055386   \n",
       "35863               -0.155342               -0.134497               -0.057262   \n",
       "35864               -0.060537               -0.128216               -0.128252   \n",
       "35865               -0.155342               -0.134497               -0.057262   \n",
       "\n",
       "       principal component 65  principal component 66  principal component 67  \\\n",
       "35861               -0.026415               -0.055904               -0.222933   \n",
       "35862               -0.026455               -0.060854               -0.217973   \n",
       "35863               -0.026415               -0.055904               -0.222933   \n",
       "35864               -0.019920               -0.040049               -0.162942   \n",
       "35865               -0.026415               -0.055904               -0.222933   \n",
       "\n",
       "       principal component 68  principal component 69  Class  \n",
       "35861               -0.050600               -0.064772      0  \n",
       "35862               -0.048817               -0.063880      1  \n",
       "35863               -0.050600               -0.064772      0  \n",
       "35864               -0.059494               -0.041353      1  \n",
       "35865               -0.050600               -0.064772      0  \n",
       "\n",
       "[5 rows x 71 columns]"
      ]
     },
     "execution_count": 4,
     "metadata": {},
     "output_type": "execute_result"
    }
   ],
   "source": [
    "df.tail()"
   ]
  },
  {
   "cell_type": "code",
   "execution_count": 5,
   "metadata": {
    "collapsed": false
   },
   "outputs": [],
   "source": [
    "col = df.columns[1:70]\n",
    "features = df[col]\n",
    "labels = df['Class']"
   ]
  },
  {
   "cell_type": "code",
   "execution_count": 6,
   "metadata": {
    "collapsed": false
   },
   "outputs": [
    {
     "data": {
      "text/plain": [
       "Index(['principal component 1', 'principal component 2',\n",
       "       'principal component 3', 'principal component 4',\n",
       "       'principal component 5', 'principal component 6',\n",
       "       'principal component 7', 'principal component 8',\n",
       "       'principal component 9', 'principal component 10',\n",
       "       'principal component 11', 'principal component 12',\n",
       "       'principal component 13', 'principal component 14',\n",
       "       'principal component 15', 'principal component 16',\n",
       "       'principal component 17', 'principal component 18',\n",
       "       'principal component 19', 'principal component 20',\n",
       "       'principal component 21', 'principal component 22',\n",
       "       'principal component 23', 'principal component 24',\n",
       "       'principal component 25', 'principal component 26',\n",
       "       'principal component 27', 'principal component 28',\n",
       "       'principal component 29', 'principal component 30',\n",
       "       'principal component 31', 'principal component 32',\n",
       "       'principal component 33', 'principal component 34',\n",
       "       'principal component 35', 'principal component 36',\n",
       "       'principal component 37', 'principal component 38',\n",
       "       'principal component 39', 'principal component 40',\n",
       "       'principal component 41', 'principal component 42',\n",
       "       'principal component 43', 'principal component 44',\n",
       "       'principal component 45', 'principal component 46',\n",
       "       'principal component 47', 'principal component 48',\n",
       "       'principal component 49', 'principal component 50',\n",
       "       'principal component 51', 'principal component 52',\n",
       "       'principal component 53', 'principal component 54',\n",
       "       'principal component 55', 'principal component 56',\n",
       "       'principal component 57', 'principal component 58',\n",
       "       'principal component 59', 'principal component 60',\n",
       "       'principal component 61', 'principal component 62',\n",
       "       'principal component 63', 'principal component 64',\n",
       "       'principal component 65', 'principal component 66',\n",
       "       'principal component 67', 'principal component 68',\n",
       "       'principal component 69'],\n",
       "      dtype='object')"
      ]
     },
     "execution_count": 6,
     "metadata": {},
     "output_type": "execute_result"
    }
   ],
   "source": [
    "col"
   ]
  },
  {
   "cell_type": "code",
   "execution_count": 7,
   "metadata": {
    "collapsed": false
   },
   "outputs": [
    {
     "data": {
      "text/plain": [
       "0        0\n",
       "1        1\n",
       "2        1\n",
       "3        1\n",
       "4        1\n",
       "5        0\n",
       "6        0\n",
       "7        0\n",
       "8        0\n",
       "9        0\n",
       "10       0\n",
       "11       0\n",
       "12       0\n",
       "13       0\n",
       "14       1\n",
       "15       0\n",
       "16       0\n",
       "17       0\n",
       "18       0\n",
       "19       0\n",
       "20       0\n",
       "21       0\n",
       "22       0\n",
       "23       0\n",
       "24       0\n",
       "25       0\n",
       "26       1\n",
       "27       0\n",
       "28       0\n",
       "29       0\n",
       "        ..\n",
       "35836    0\n",
       "35837    0\n",
       "35838    0\n",
       "35839    0\n",
       "35840    0\n",
       "35841    0\n",
       "35842    0\n",
       "35843    0\n",
       "35844    1\n",
       "35845    0\n",
       "35846    0\n",
       "35847    0\n",
       "35848    0\n",
       "35849    0\n",
       "35850    0\n",
       "35851    0\n",
       "35852    0\n",
       "35853    0\n",
       "35854    0\n",
       "35855    1\n",
       "35856    1\n",
       "35857    0\n",
       "35858    0\n",
       "35859    0\n",
       "35860    0\n",
       "35861    0\n",
       "35862    1\n",
       "35863    0\n",
       "35864    1\n",
       "35865    0\n",
       "Name: Class, Length: 35866, dtype: int64"
      ]
     },
     "execution_count": 7,
     "metadata": {},
     "output_type": "execute_result"
    }
   ],
   "source": [
    "labels"
   ]
  },
  {
   "cell_type": "code",
   "execution_count": 8,
   "metadata": {
    "collapsed": true
   },
   "outputs": [],
   "source": [
    "from sklearn.model_selection import train_test_split\n",
    "\n",
    "from sklearn.model_selection import train_test_split\n",
    "\n",
    "# Split our data\n",
    "train_X, test_X, train_Y, test_Y = train_test_split(features,\n",
    "                                                          labels,\n",
    "                                                          test_size=0.2,\n",
    "                                                          random_state=42)\n",
    "\n",
    "# Split our data\n",
    "#train, test, train_labels, test_labels = train_test_split(features,labels,  test_size=0.2,   random_state=42)\n",
    "                                                       \n",
    "                                                        \n",
    "                                                          "
   ]
  },
  {
   "cell_type": "code",
   "execution_count": 9,
   "metadata": {
    "collapsed": true
   },
   "outputs": [],
   "source": [
    "from sklearn.naive_bayes import GaussianNB\n",
    "\n",
    "# Initialize our classifier\n",
    "gnb = GaussianNB()\n",
    "\n",
    "# Train our classifier\n",
    "model_gnb = gnb.fit(train_X, train_Y)"
   ]
  },
  {
   "cell_type": "code",
   "execution_count": 10,
   "metadata": {
    "collapsed": false
   },
   "outputs": [
    {
     "name": "stdout",
     "output_type": "stream",
     "text": [
      "[0 0 1 ..., 1 1 0]\n"
     ]
    }
   ],
   "source": [
    "# Make predictions\n",
    "preds_gnb = gnb.predict(test_X)\n",
    "print(preds_gnb)"
   ]
  },
  {
   "cell_type": "code",
   "execution_count": 11,
   "metadata": {
    "collapsed": false
   },
   "outputs": [
    {
     "name": "stdout",
     "output_type": "stream",
     "text": [
      "0.925006969612\n"
     ]
    }
   ],
   "source": [
    "from sklearn.datasets import load_breast_cancer\n",
    "from sklearn.model_selection import train_test_split\n",
    "from sklearn.naive_bayes import GaussianNB\n",
    "from sklearn.metrics import accuracy_score, log_loss\n",
    "# Evaluate accuracy\n",
    "print(accuracy_score(test_Y, preds_gnb))"
   ]
  },
  {
   "cell_type": "code",
   "execution_count": 12,
   "metadata": {
    "collapsed": false
   },
   "outputs": [
    {
     "name": "stdout",
     "output_type": "stream",
     "text": [
      "2.59017999099\n"
     ]
    }
   ],
   "source": [
    "print(log_loss(test_Y, preds_gnb))"
   ]
  },
  {
   "cell_type": "code",
   "execution_count": 13,
   "metadata": {
    "collapsed": false
   },
   "outputs": [
    {
     "name": "stdout",
     "output_type": "stream",
     "text": [
      "             precision    recall  f1-score   support\n",
      "\n",
      "          0       0.98      0.93      0.96      6419\n",
      "          1       0.60      0.85      0.71       755\n",
      "\n",
      "avg / total       0.94      0.93      0.93      7174\n",
      "\n"
     ]
    }
   ],
   "source": [
    "from sklearn import metrics\n",
    "print(metrics.classification_report(preds_gnb, test_Y))"
   ]
  },
  {
   "cell_type": "code",
   "execution_count": 14,
   "metadata": {
    "collapsed": false
   },
   "outputs": [
    {
     "name": "stderr",
     "output_type": "stream",
     "text": [
      "/usr/local/lib/python3.5/dist-packages/matplotlib/font_manager.py:273: UserWarning: Matplotlib is building the font cache using fc-list. This may take a moment.\n",
      "  warnings.warn('Matplotlib is building the font cache using fc-list. This may take a moment.')\n",
      "/usr/local/lib/python3.5/dist-packages/matplotlib/font_manager.py:273: UserWarning: Matplotlib is building the font cache using fc-list. This may take a moment.\n",
      "  warnings.warn('Matplotlib is building the font cache using fc-list. This may take a moment.')\n"
     ]
    },
    {
     "data": {
      "image/png": "[encoded data removed]",
      "text/plain": [
       "<matplotlib.figure.Figure at 0x7fac620aa860>"
      ]
     },
     "metadata": {},
     "output_type": "display_data"
    }
   ],
   "source": [
    "%matplotlib inline\n",
    "import matplotlib.pyplot as plt\n",
    "import seaborn as sns; sns.set()\n",
    "from sklearn.metrics import confusion_matrix\n",
    "mat = confusion_matrix(test_Y, preds_gnb)\n",
    "sns.heatmap(mat.T, square=True, annot=True, fmt='d', cbar=False)\n",
    "plt.xlabel('true label')\n",
    "plt.ylabel('predicted label');"
   ]
  },
  {
   "cell_type": "code",
   "execution_count": 15,
   "metadata": {
    "collapsed": true
   },
   "outputs": [],
   "source": [
    "from sklearn import svm "
   ]
  },
  {
   "cell_type": "code",
   "execution_count": 16,
   "metadata": {
    "collapsed": true
   },
   "outputs": [],
   "source": [
    "clf_svm = svm.SVC(kernel='rbf', C = 1.0)"
   ]
  },
  {
   "cell_type": "code",
   "execution_count": 17,
   "metadata": {
    "collapsed": false
   },
   "outputs": [
    {
     "data": {
      "text/plain": [
       "SVC(C=1.0, cache_size=200, class_weight=None, coef0=0.0,\n",
       "  decision_function_shape='ovr', degree=3, gamma='auto', kernel='rbf',\n",
       "  max_iter=-1, probability=False, random_state=None, shrinking=True,\n",
       "  tol=0.001, verbose=False)"
      ]
     },
     "execution_count": 17,
     "metadata": {},
     "output_type": "execute_result"
    }
   ],
   "source": [
    "clf_svm.fit(train_X, train_Y)"
   ]
  },
  {
   "cell_type": "code",
   "execution_count": 18,
   "metadata": {
    "collapsed": false
   },
   "outputs": [
    {
     "name": "stdout",
     "output_type": "stream",
     "text": [
      "[0 0 1 ..., 1 1 1]\n"
     ]
    }
   ],
   "source": [
    "pred_svm = clf_svm.predict(test_X)\n",
    "print(pred_svm)"
   ]
  },
  {
   "cell_type": "code",
   "execution_count": 19,
   "metadata": {
    "collapsed": false
   },
   "outputs": [
    {
     "name": "stdout",
     "output_type": "stream",
     "text": [
      "0.97978812378\n"
     ]
    }
   ],
   "source": [
    "print(accuracy_score(test_Y, pred_svm))"
   ]
  },
  {
   "cell_type": "code",
   "execution_count": 20,
   "metadata": {
    "collapsed": false
   },
   "outputs": [
    {
     "name": "stdout",
     "output_type": "stream",
     "text": [
      "0.69810517633\n"
     ]
    }
   ],
   "source": [
    "print(log_loss(test_Y, pred_svm))"
   ]
  },
  {
   "cell_type": "code",
   "execution_count": 21,
   "metadata": {
    "collapsed": false
   },
   "outputs": [
    {
     "name": "stdout",
     "output_type": "stream",
     "text": [
      "             precision    recall  f1-score   support\n",
      "\n",
      "          0       0.98      0.99      0.99      6040\n",
      "          1       0.96      0.91      0.93      1134\n",
      "\n",
      "avg / total       0.98      0.98      0.98      7174\n",
      "\n"
     ]
    }
   ],
   "source": [
    "from sklearn import metrics\n",
    "print(metrics.classification_report(pred_svm, test_Y))"
   ]
  },
  {
   "cell_type": "code",
   "execution_count": 22,
   "metadata": {
    "collapsed": false
   },
   "outputs": [
    {
     "data": {
      "image/png": "[encoded data removed]",
      "text/plain": [
       "<matplotlib.figure.Figure at 0x7facbb172438>"
      ]
     },
     "metadata": {},
     "output_type": "display_data"
    }
   ],
   "source": [
    "mat = confusion_matrix(test_Y, pred_svm)\n",
    "sns.heatmap(mat.T, square=True, annot=True, fmt='d', cbar=False)\n",
    "plt.xlabel('true label')\n",
    "plt.ylabel('predicted label');"
   ]
  },
  {
   "cell_type": "code",
   "execution_count": 23,
   "metadata": {
    "collapsed": false
   },
   "outputs": [
    {
     "data": {
      "text/plain": [
       "RandomForestClassifier(bootstrap=True, class_weight=None, criterion='gini',\n",
       "            max_depth=None, max_features='auto', max_leaf_nodes=None,\n",
       "            min_impurity_decrease=0.0, min_impurity_split=None,\n",
       "            min_samples_leaf=1, min_samples_split=2,\n",
       "            min_weight_fraction_leaf=0.0, n_estimators=1000, n_jobs=1,\n",
       "            oob_score=True, random_state=0, verbose=0, warm_start=False)"
      ]
     },
     "execution_count": 23,
     "metadata": {},
     "output_type": "execute_result"
    }
   ],
   "source": [
    "from sklearn.ensemble import RandomForestClassifier\n",
    "\n",
    "#modelRF = RandomForestClassifier(n_estimators=1000)\n",
    "#modelRF.fit(train_X, train_Y)\n",
    "\n",
    "clf_RF = RandomForestClassifier(oob_score=True,n_estimators= 1000,random_state=0)\n",
    "clf_RF.fit(train_X, train_Y)"
   ]
  },
  {
   "cell_type": "code",
   "execution_count": 24,
   "metadata": {
    "collapsed": false
   },
   "outputs": [
    {
     "name": "stdout",
     "output_type": "stream",
     "text": [
      "[0 0 0 ..., 1 1 1]\n"
     ]
    }
   ],
   "source": [
    "pred_RF = clf_RF.predict(test_X)\n",
    "print(pred_RF)"
   ]
  },
  {
   "cell_type": "code",
   "execution_count": 25,
   "metadata": {
    "collapsed": false
   },
   "outputs": [
    {
     "name": "stdout",
     "output_type": "stream",
     "text": [
      "0.984527460273\n"
     ]
    }
   ],
   "source": [
    "print(accuracy_score(test_Y, pred_RF))"
   ]
  },
  {
   "cell_type": "code",
   "execution_count": 26,
   "metadata": {
    "collapsed": false
   },
   "outputs": [
    {
     "name": "stdout",
     "output_type": "stream",
     "text": [
      "0.534410837754\n"
     ]
    }
   ],
   "source": [
    "print(log_loss(test_Y, pred_RF))"
   ]
  },
  {
   "cell_type": "code",
   "execution_count": 27,
   "metadata": {
    "collapsed": false
   },
   "outputs": [
    {
     "name": "stdout",
     "output_type": "stream",
     "text": [
      "             precision    recall  f1-score   support\n",
      "\n",
      "          0       0.99      0.99      0.99      6068\n",
      "          1       0.97      0.93      0.95      1106\n",
      "\n",
      "avg / total       0.98      0.98      0.98      7174\n",
      "\n"
     ]
    }
   ],
   "source": [
    "print(metrics.classification_report(pred_RF, test_Y))"
   ]
  },
  {
   "cell_type": "code",
   "execution_count": 28,
   "metadata": {
    "collapsed": false
   },
   "outputs": [
    {
     "data": {
      "image/png": "[encoded data removed]",
      "text/plain": [
       "<matplotlib.figure.Figure at 0x7fac5290e3c8>"
      ]
     },
     "metadata": {},
     "output_type": "display_data"
    }
   ],
   "source": [
    "mat = confusion_matrix(test_Y, pred_RF)\n",
    "sns.heatmap(mat.T, square=True, annot=True, fmt='d', cbar=False)\n",
    "plt.xlabel('true label')\n",
    "plt.ylabel('predicted label');"
   ]
  },
  {
   "cell_type": "code",
   "execution_count": 29,
   "metadata": {
    "collapsed": false
   },
   "outputs": [
    {
     "data": {
      "text/plain": [
       "DecisionTreeClassifier(class_weight=None, criterion='gini', max_depth=None,\n",
       "            max_features=None, max_leaf_nodes=None,\n",
       "            min_impurity_decrease=0.0, min_impurity_split=None,\n",
       "            min_samples_leaf=1, min_samples_split=2,\n",
       "            min_weight_fraction_leaf=0.0, presort=False, random_state=None,\n",
       "            splitter='best')"
      ]
     },
     "execution_count": 29,
     "metadata": {},
     "output_type": "execute_result"
    }
   ],
   "source": [
    "from sklearn.tree import DecisionTreeClassifier  \n",
    "classifier = DecisionTreeClassifier()  \n",
    "classifier.fit(train_X, train_Y)"
   ]
  },
  {
   "cell_type": "code",
   "execution_count": 30,
   "metadata": {
    "collapsed": false
   },
   "outputs": [
    {
     "name": "stdout",
     "output_type": "stream",
     "text": [
      "[0 0 1 ..., 1 0 1]\n"
     ]
    }
   ],
   "source": [
    "pred_Dtree = classifier.predict(test_X)\n",
    "print(pred_Dtree)"
   ]
  },
  {
   "cell_type": "code",
   "execution_count": 31,
   "metadata": {
    "collapsed": false
   },
   "outputs": [
    {
     "name": "stdout",
     "output_type": "stream",
     "text": [
      "0.978254809033\n"
     ]
    }
   ],
   "source": [
    "print(accuracy_score(test_Y, pred_Dtree))"
   ]
  },
  {
   "cell_type": "code",
   "execution_count": 32,
   "metadata": {
    "collapsed": false
   },
   "outputs": [
    {
     "name": "stdout",
     "output_type": "stream",
     "text": [
      "0.75106031344\n"
     ]
    }
   ],
   "source": [
    "print(log_loss(test_Y, pred_Dtree))"
   ]
  },
  {
   "cell_type": "code",
   "execution_count": 33,
   "metadata": {
    "collapsed": false
   },
   "outputs": [
    {
     "name": "stdout",
     "output_type": "stream",
     "text": [
      "             precision    recall  f1-score   support\n",
      "\n",
      "          0       0.99      0.99      0.99      6117\n",
      "          1       0.92      0.93      0.93      1057\n",
      "\n",
      "avg / total       0.98      0.98      0.98      7174\n",
      "\n"
     ]
    }
   ],
   "source": [
    "print(metrics.classification_report(pred_Dtree, test_Y))"
   ]
  },
  {
   "cell_type": "code",
   "execution_count": 34,
   "metadata": {
    "collapsed": false
   },
   "outputs": [
    {
     "data": {
      "image/png": "[encoded data removed]",
      "text/plain": [
       "<matplotlib.figure.Figure at 0x7fac528f9ac8>"
      ]
     },
     "metadata": {},
     "output_type": "display_data"
    }
   ],
   "source": [
    "mat = confusion_matrix(test_Y, pred_Dtree)\n",
    "sns.heatmap(mat.T, square=True, annot=True, fmt='d', cbar=False)\n",
    "plt.xlabel('true label')\n",
    "plt.ylabel('predicted label');"
   ]
  },
  {
   "cell_type": "code",
   "execution_count": 35,
   "metadata": {
    "collapsed": true
   },
   "outputs": [],
   "source": [
    "from sklearn.neighbors import NearestCentroid"
   ]
  },
  {
   "cell_type": "code",
   "execution_count": 36,
   "metadata": {
    "collapsed": false
   },
   "outputs": [
    {
     "data": {
      "text/plain": [
       "NearestCentroid(metric='euclidean', shrink_threshold=None)"
      ]
     },
     "execution_count": 36,
     "metadata": {},
     "output_type": "execute_result"
    }
   ],
   "source": [
    "clf_N = NearestCentroid()\n",
    "clf_N.fit(train_X, train_Y)"
   ]
  },
  {
   "cell_type": "code",
   "execution_count": 37,
   "metadata": {
    "collapsed": false
   },
   "outputs": [
    {
     "name": "stdout",
     "output_type": "stream",
     "text": [
      "[0 0 0 ..., 1 0 0]\n"
     ]
    }
   ],
   "source": [
    "pred_N = clf_N.predict(test_X)\n",
    "print(pred_N)"
   ]
  },
  {
   "cell_type": "code",
   "execution_count": 38,
   "metadata": {
    "collapsed": false
   },
   "outputs": [
    {
     "name": "stdout",
     "output_type": "stream",
     "text": [
      "0.887371062169\n"
     ]
    }
   ],
   "source": [
    "print(accuracy_score(test_Y, pred_N))"
   ]
  },
  {
   "cell_type": "code",
   "execution_count": 39,
   "metadata": {
    "collapsed": false
   },
   "outputs": [
    {
     "name": "stdout",
     "output_type": "stream",
     "text": [
      "3.89006971182\n"
     ]
    }
   ],
   "source": [
    "print(log_loss(test_Y, pred_N))"
   ]
  },
  {
   "cell_type": "code",
   "execution_count": 40,
   "metadata": {
    "collapsed": false
   },
   "outputs": [
    {
     "name": "stdout",
     "output_type": "stream",
     "text": [
      "             precision    recall  f1-score   support\n",
      "\n",
      "          0       0.99      0.89      0.94      6841\n",
      "          1       0.28      0.89      0.42       333\n",
      "\n",
      "avg / total       0.96      0.89      0.91      7174\n",
      "\n"
     ]
    }
   ],
   "source": [
    "print(metrics.classification_report(pred_N, test_Y))"
   ]
  },
  {
   "cell_type": "code",
   "execution_count": 42,
   "metadata": {
    "collapsed": false
   },
   "outputs": [
    {
     "data": {
      "image/png": "[encoded data removed]",
      "text/plain": [
       "<matplotlib.figure.Figure at 0x7fac528f9cf8>"
      ]
     },
     "metadata": {},
     "output_type": "display_data"
    }
   ],
   "source": [
    "mat = confusion_matrix(test_Y, pred_N)\n",
    "sns.heatmap(mat.T, square=True, annot=True, fmt='d', cbar=False)\n",
    "plt.xlabel('true label')\n",
    "plt.ylabel('predicted label');"
   ]
  },
  {
   "cell_type": "code",
   "execution_count": null,
   "metadata": {
    "collapsed": true
   },
   "outputs": [],
   "source": []
  }
 ],
 "metadata": {
  "kernelspec": {
   "display_name": "Python 3",
   "language": "python",
   "name": "python3"
  },
  "language_info": {
   "codemirror_mode": {
    "name": "ipython",
    "version": 3
   },
   "file_extension": ".py",
   "mimetype": "text/x-python",
   "name": "python",
   "nbconvert_exporter": "python",
   "pygments_lexer": "ipython3",
   "version": "3.5.2"
  },
  "widgets": {
   "state": {},
   "version": "1.1.2"
  }
 },
 "nbformat": 4,
 "nbformat_minor": 0
}
